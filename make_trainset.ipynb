{
 "cells": [
  {
   "cell_type": "code",
   "execution_count": 1,
   "metadata": {},
   "outputs": [],
   "source": [
    "import json\n",
    "import pandas as pd\n",
    "# http://ocelma.net/MusicRecommendationDataset/lastfm-360K.html"
   ]
  },
  {
   "cell_type": "code",
   "execution_count": 2,
   "metadata": {},
   "outputs": [
    {
     "ename": "FileNotFoundError",
     "evalue": "[Errno 2] No such file or directory: 'data/lastfm-dataset-360K/usersha1-artmbid-artname-plays.tsv'",
     "output_type": "error",
     "traceback": [
      "\u001b[0;31m---------------------------------------------------------------------------\u001b[0m",
      "\u001b[0;31mFileNotFoundError\u001b[0m                         Traceback (most recent call last)",
      "Cell \u001b[0;32mIn[2], line 1\u001b[0m\n\u001b[0;32m----> 1\u001b[0m lastfm_hist \u001b[39m=\u001b[39m pd\u001b[39m.\u001b[39;49mread_csv(\u001b[39m'\u001b[39;49m\u001b[39mdata/lastfm-dataset-360K/usersha1-artmbid-artname-plays.tsv\u001b[39;49m\u001b[39m'\u001b[39;49m, sep\u001b[39m=\u001b[39;49m\u001b[39m'\u001b[39;49m\u001b[39m\\t\u001b[39;49;00m\u001b[39m'\u001b[39;49m, header\u001b[39m=\u001b[39;49m\u001b[39mNone\u001b[39;49;00m)\n\u001b[1;32m      2\u001b[0m user \u001b[39m=\u001b[39m pd\u001b[39m.\u001b[39mread_csv(\u001b[39m'\u001b[39m\u001b[39mdata/lastfm-dataset-360K/usersha1-profile.tsv\u001b[39m\u001b[39m'\u001b[39m, sep\u001b[39m=\u001b[39m\u001b[39m'\u001b[39m\u001b[39m\\t\u001b[39;00m\u001b[39m'\u001b[39m, header\u001b[39m=\u001b[39m\u001b[39mNone\u001b[39;00m)\n",
      "File \u001b[0;32m~/anaconda3/envs/kgat2/lib/python3.8/site-packages/pandas/io/parsers/readers.py:912\u001b[0m, in \u001b[0;36mread_csv\u001b[0;34m(filepath_or_buffer, sep, delimiter, header, names, index_col, usecols, dtype, engine, converters, true_values, false_values, skipinitialspace, skiprows, skipfooter, nrows, na_values, keep_default_na, na_filter, verbose, skip_blank_lines, parse_dates, infer_datetime_format, keep_date_col, date_parser, date_format, dayfirst, cache_dates, iterator, chunksize, compression, thousands, decimal, lineterminator, quotechar, quoting, doublequote, escapechar, comment, encoding, encoding_errors, dialect, on_bad_lines, delim_whitespace, low_memory, memory_map, float_precision, storage_options, dtype_backend)\u001b[0m\n\u001b[1;32m    899\u001b[0m kwds_defaults \u001b[39m=\u001b[39m _refine_defaults_read(\n\u001b[1;32m    900\u001b[0m     dialect,\n\u001b[1;32m    901\u001b[0m     delimiter,\n\u001b[0;32m   (...)\u001b[0m\n\u001b[1;32m    908\u001b[0m     dtype_backend\u001b[39m=\u001b[39mdtype_backend,\n\u001b[1;32m    909\u001b[0m )\n\u001b[1;32m    910\u001b[0m kwds\u001b[39m.\u001b[39mupdate(kwds_defaults)\n\u001b[0;32m--> 912\u001b[0m \u001b[39mreturn\u001b[39;00m _read(filepath_or_buffer, kwds)\n",
      "File \u001b[0;32m~/anaconda3/envs/kgat2/lib/python3.8/site-packages/pandas/io/parsers/readers.py:577\u001b[0m, in \u001b[0;36m_read\u001b[0;34m(filepath_or_buffer, kwds)\u001b[0m\n\u001b[1;32m    574\u001b[0m _validate_names(kwds\u001b[39m.\u001b[39mget(\u001b[39m\"\u001b[39m\u001b[39mnames\u001b[39m\u001b[39m\"\u001b[39m, \u001b[39mNone\u001b[39;00m))\n\u001b[1;32m    576\u001b[0m \u001b[39m# Create the parser.\u001b[39;00m\n\u001b[0;32m--> 577\u001b[0m parser \u001b[39m=\u001b[39m TextFileReader(filepath_or_buffer, \u001b[39m*\u001b[39;49m\u001b[39m*\u001b[39;49mkwds)\n\u001b[1;32m    579\u001b[0m \u001b[39mif\u001b[39;00m chunksize \u001b[39mor\u001b[39;00m iterator:\n\u001b[1;32m    580\u001b[0m     \u001b[39mreturn\u001b[39;00m parser\n",
      "File \u001b[0;32m~/anaconda3/envs/kgat2/lib/python3.8/site-packages/pandas/io/parsers/readers.py:1407\u001b[0m, in \u001b[0;36mTextFileReader.__init__\u001b[0;34m(self, f, engine, **kwds)\u001b[0m\n\u001b[1;32m   1404\u001b[0m     \u001b[39mself\u001b[39m\u001b[39m.\u001b[39moptions[\u001b[39m\"\u001b[39m\u001b[39mhas_index_names\u001b[39m\u001b[39m\"\u001b[39m] \u001b[39m=\u001b[39m kwds[\u001b[39m\"\u001b[39m\u001b[39mhas_index_names\u001b[39m\u001b[39m\"\u001b[39m]\n\u001b[1;32m   1406\u001b[0m \u001b[39mself\u001b[39m\u001b[39m.\u001b[39mhandles: IOHandles \u001b[39m|\u001b[39m \u001b[39mNone\u001b[39;00m \u001b[39m=\u001b[39m \u001b[39mNone\u001b[39;00m\n\u001b[0;32m-> 1407\u001b[0m \u001b[39mself\u001b[39m\u001b[39m.\u001b[39m_engine \u001b[39m=\u001b[39m \u001b[39mself\u001b[39;49m\u001b[39m.\u001b[39;49m_make_engine(f, \u001b[39mself\u001b[39;49m\u001b[39m.\u001b[39;49mengine)\n",
      "File \u001b[0;32m~/anaconda3/envs/kgat2/lib/python3.8/site-packages/pandas/io/parsers/readers.py:1661\u001b[0m, in \u001b[0;36mTextFileReader._make_engine\u001b[0;34m(self, f, engine)\u001b[0m\n\u001b[1;32m   1659\u001b[0m     \u001b[39mif\u001b[39;00m \u001b[39m\"\u001b[39m\u001b[39mb\u001b[39m\u001b[39m\"\u001b[39m \u001b[39mnot\u001b[39;00m \u001b[39min\u001b[39;00m mode:\n\u001b[1;32m   1660\u001b[0m         mode \u001b[39m+\u001b[39m\u001b[39m=\u001b[39m \u001b[39m\"\u001b[39m\u001b[39mb\u001b[39m\u001b[39m\"\u001b[39m\n\u001b[0;32m-> 1661\u001b[0m \u001b[39mself\u001b[39m\u001b[39m.\u001b[39mhandles \u001b[39m=\u001b[39m get_handle(\n\u001b[1;32m   1662\u001b[0m     f,\n\u001b[1;32m   1663\u001b[0m     mode,\n\u001b[1;32m   1664\u001b[0m     encoding\u001b[39m=\u001b[39;49m\u001b[39mself\u001b[39;49m\u001b[39m.\u001b[39;49moptions\u001b[39m.\u001b[39;49mget(\u001b[39m\"\u001b[39;49m\u001b[39mencoding\u001b[39;49m\u001b[39m\"\u001b[39;49m, \u001b[39mNone\u001b[39;49;00m),\n\u001b[1;32m   1665\u001b[0m     compression\u001b[39m=\u001b[39;49m\u001b[39mself\u001b[39;49m\u001b[39m.\u001b[39;49moptions\u001b[39m.\u001b[39;49mget(\u001b[39m\"\u001b[39;49m\u001b[39mcompression\u001b[39;49m\u001b[39m\"\u001b[39;49m, \u001b[39mNone\u001b[39;49;00m),\n\u001b[1;32m   1666\u001b[0m     memory_map\u001b[39m=\u001b[39;49m\u001b[39mself\u001b[39;49m\u001b[39m.\u001b[39;49moptions\u001b[39m.\u001b[39;49mget(\u001b[39m\"\u001b[39;49m\u001b[39mmemory_map\u001b[39;49m\u001b[39m\"\u001b[39;49m, \u001b[39mFalse\u001b[39;49;00m),\n\u001b[1;32m   1667\u001b[0m     is_text\u001b[39m=\u001b[39;49mis_text,\n\u001b[1;32m   1668\u001b[0m     errors\u001b[39m=\u001b[39;49m\u001b[39mself\u001b[39;49m\u001b[39m.\u001b[39;49moptions\u001b[39m.\u001b[39;49mget(\u001b[39m\"\u001b[39;49m\u001b[39mencoding_errors\u001b[39;49m\u001b[39m\"\u001b[39;49m, \u001b[39m\"\u001b[39;49m\u001b[39mstrict\u001b[39;49m\u001b[39m\"\u001b[39;49m),\n\u001b[1;32m   1669\u001b[0m     storage_options\u001b[39m=\u001b[39;49m\u001b[39mself\u001b[39;49m\u001b[39m.\u001b[39;49moptions\u001b[39m.\u001b[39;49mget(\u001b[39m\"\u001b[39;49m\u001b[39mstorage_options\u001b[39;49m\u001b[39m\"\u001b[39;49m, \u001b[39mNone\u001b[39;49;00m),\n\u001b[1;32m   1670\u001b[0m )\n\u001b[1;32m   1671\u001b[0m \u001b[39massert\u001b[39;00m \u001b[39mself\u001b[39m\u001b[39m.\u001b[39mhandles \u001b[39mis\u001b[39;00m \u001b[39mnot\u001b[39;00m \u001b[39mNone\u001b[39;00m\n\u001b[1;32m   1672\u001b[0m f \u001b[39m=\u001b[39m \u001b[39mself\u001b[39m\u001b[39m.\u001b[39mhandles\u001b[39m.\u001b[39mhandle\n",
      "File \u001b[0;32m~/anaconda3/envs/kgat2/lib/python3.8/site-packages/pandas/io/common.py:859\u001b[0m, in \u001b[0;36mget_handle\u001b[0;34m(path_or_buf, mode, encoding, compression, memory_map, is_text, errors, storage_options)\u001b[0m\n\u001b[1;32m    854\u001b[0m \u001b[39melif\u001b[39;00m \u001b[39misinstance\u001b[39m(handle, \u001b[39mstr\u001b[39m):\n\u001b[1;32m    855\u001b[0m     \u001b[39m# Check whether the filename is to be opened in binary mode.\u001b[39;00m\n\u001b[1;32m    856\u001b[0m     \u001b[39m# Binary mode does not support 'encoding' and 'newline'.\u001b[39;00m\n\u001b[1;32m    857\u001b[0m     \u001b[39mif\u001b[39;00m ioargs\u001b[39m.\u001b[39mencoding \u001b[39mand\u001b[39;00m \u001b[39m\"\u001b[39m\u001b[39mb\u001b[39m\u001b[39m\"\u001b[39m \u001b[39mnot\u001b[39;00m \u001b[39min\u001b[39;00m ioargs\u001b[39m.\u001b[39mmode:\n\u001b[1;32m    858\u001b[0m         \u001b[39m# Encoding\u001b[39;00m\n\u001b[0;32m--> 859\u001b[0m         handle \u001b[39m=\u001b[39m \u001b[39mopen\u001b[39;49m(\n\u001b[1;32m    860\u001b[0m             handle,\n\u001b[1;32m    861\u001b[0m             ioargs\u001b[39m.\u001b[39;49mmode,\n\u001b[1;32m    862\u001b[0m             encoding\u001b[39m=\u001b[39;49mioargs\u001b[39m.\u001b[39;49mencoding,\n\u001b[1;32m    863\u001b[0m             errors\u001b[39m=\u001b[39;49merrors,\n\u001b[1;32m    864\u001b[0m             newline\u001b[39m=\u001b[39;49m\u001b[39m\"\u001b[39;49m\u001b[39m\"\u001b[39;49m,\n\u001b[1;32m    865\u001b[0m         )\n\u001b[1;32m    866\u001b[0m     \u001b[39melse\u001b[39;00m:\n\u001b[1;32m    867\u001b[0m         \u001b[39m# Binary mode\u001b[39;00m\n\u001b[1;32m    868\u001b[0m         handle \u001b[39m=\u001b[39m \u001b[39mopen\u001b[39m(handle, ioargs\u001b[39m.\u001b[39mmode)\n",
      "\u001b[0;31mFileNotFoundError\u001b[0m: [Errno 2] No such file or directory: 'data/lastfm-dataset-360K/usersha1-artmbid-artname-plays.tsv'"
     ]
    }
   ],
   "source": [
    "lastfm_hist = pd.read_csv('data/lastfm-dataset-360K/usersha1-artmbid-artname-plays.tsv', sep='\\t', header=None)\n",
    "user = pd.read_csv('data/lastfm-dataset-360K/usersha1-profile.tsv', sep='\\t', header=None)"
   ]
  },
  {
   "cell_type": "code",
   "execution_count": 5,
   "metadata": {},
   "outputs": [
    {
     "data": {
      "text/plain": [
       "(17535655, 4)"
      ]
     },
     "execution_count": 5,
     "metadata": {},
     "output_type": "execute_result"
    }
   ],
   "source": [
    "lastfm_hist.shape"
   ]
  },
  {
   "cell_type": "code",
   "execution_count": 6,
   "metadata": {},
   "outputs": [
    {
     "data": {
      "text/plain": [
       "(359347, 5)"
      ]
     },
     "execution_count": 6,
     "metadata": {},
     "output_type": "execute_result"
    }
   ],
   "source": [
    "user.shape"
   ]
  },
  {
   "cell_type": "code",
   "execution_count": 7,
   "metadata": {},
   "outputs": [
    {
     "data": {
      "text/html": [
       "<div>\n",
       "<style scoped>\n",
       "    .dataframe tbody tr th:only-of-type {\n",
       "        vertical-align: middle;\n",
       "    }\n",
       "\n",
       "    .dataframe tbody tr th {\n",
       "        vertical-align: top;\n",
       "    }\n",
       "\n",
       "    .dataframe thead th {\n",
       "        text-align: right;\n",
       "    }\n",
       "</style>\n",
       "<table border=\"1\" class=\"dataframe\">\n",
       "  <thead>\n",
       "    <tr style=\"text-align: right;\">\n",
       "      <th></th>\n",
       "      <th>0</th>\n",
       "      <th>1</th>\n",
       "      <th>2</th>\n",
       "      <th>3</th>\n",
       "    </tr>\n",
       "  </thead>\n",
       "  <tbody>\n",
       "    <tr>\n",
       "      <th>0</th>\n",
       "      <td>00000c289a1829a808ac09c00daf10bc3c4e223b</td>\n",
       "      <td>3bd73256-3905-4f3a-97e2-8b341527f805</td>\n",
       "      <td>betty blowtorch</td>\n",
       "      <td>2137</td>\n",
       "    </tr>\n",
       "    <tr>\n",
       "      <th>1</th>\n",
       "      <td>00000c289a1829a808ac09c00daf10bc3c4e223b</td>\n",
       "      <td>f2fb0ff0-5679-42ec-a55c-15109ce6e320</td>\n",
       "      <td>die Ärzte</td>\n",
       "      <td>1099</td>\n",
       "    </tr>\n",
       "    <tr>\n",
       "      <th>2</th>\n",
       "      <td>00000c289a1829a808ac09c00daf10bc3c4e223b</td>\n",
       "      <td>b3ae82c2-e60b-4551-a76d-6620f1b456aa</td>\n",
       "      <td>melissa etheridge</td>\n",
       "      <td>897</td>\n",
       "    </tr>\n",
       "    <tr>\n",
       "      <th>3</th>\n",
       "      <td>00000c289a1829a808ac09c00daf10bc3c4e223b</td>\n",
       "      <td>3d6bbeb7-f90e-4d10-b440-e153c0d10b53</td>\n",
       "      <td>elvenking</td>\n",
       "      <td>717</td>\n",
       "    </tr>\n",
       "    <tr>\n",
       "      <th>4</th>\n",
       "      <td>00000c289a1829a808ac09c00daf10bc3c4e223b</td>\n",
       "      <td>bbd2ffd7-17f4-4506-8572-c1ea58c3f9a8</td>\n",
       "      <td>juliette &amp; the licks</td>\n",
       "      <td>706</td>\n",
       "    </tr>\n",
       "  </tbody>\n",
       "</table>\n",
       "</div>"
      ],
      "text/plain": [
       "                                          0  \\\n",
       "0  00000c289a1829a808ac09c00daf10bc3c4e223b   \n",
       "1  00000c289a1829a808ac09c00daf10bc3c4e223b   \n",
       "2  00000c289a1829a808ac09c00daf10bc3c4e223b   \n",
       "3  00000c289a1829a808ac09c00daf10bc3c4e223b   \n",
       "4  00000c289a1829a808ac09c00daf10bc3c4e223b   \n",
       "\n",
       "                                      1                     2     3  \n",
       "0  3bd73256-3905-4f3a-97e2-8b341527f805       betty blowtorch  2137  \n",
       "1  f2fb0ff0-5679-42ec-a55c-15109ce6e320             die Ärzte  1099  \n",
       "2  b3ae82c2-e60b-4551-a76d-6620f1b456aa     melissa etheridge   897  \n",
       "3  3d6bbeb7-f90e-4d10-b440-e153c0d10b53             elvenking   717  \n",
       "4  bbd2ffd7-17f4-4506-8572-c1ea58c3f9a8  juliette & the licks   706  "
      ]
     },
     "execution_count": 7,
     "metadata": {},
     "output_type": "execute_result"
    }
   ],
   "source": [
    "lastfm_hist.head()"
   ]
  },
  {
   "cell_type": "code",
   "execution_count": 8,
   "metadata": {},
   "outputs": [
    {
     "data": {
      "text/html": [
       "<div>\n",
       "<style scoped>\n",
       "    .dataframe tbody tr th:only-of-type {\n",
       "        vertical-align: middle;\n",
       "    }\n",
       "\n",
       "    .dataframe tbody tr th {\n",
       "        vertical-align: top;\n",
       "    }\n",
       "\n",
       "    .dataframe thead th {\n",
       "        text-align: right;\n",
       "    }\n",
       "</style>\n",
       "<table border=\"1\" class=\"dataframe\">\n",
       "  <thead>\n",
       "    <tr style=\"text-align: right;\">\n",
       "      <th></th>\n",
       "      <th>0</th>\n",
       "      <th>1</th>\n",
       "      <th>2</th>\n",
       "      <th>3</th>\n",
       "      <th>4</th>\n",
       "    </tr>\n",
       "  </thead>\n",
       "  <tbody>\n",
       "    <tr>\n",
       "      <th>0</th>\n",
       "      <td>00000c289a1829a808ac09c00daf10bc3c4e223b</td>\n",
       "      <td>f</td>\n",
       "      <td>22.0</td>\n",
       "      <td>Germany</td>\n",
       "      <td>Feb 1, 2007</td>\n",
       "    </tr>\n",
       "    <tr>\n",
       "      <th>1</th>\n",
       "      <td>00001411dc427966b17297bf4d69e7e193135d89</td>\n",
       "      <td>f</td>\n",
       "      <td>NaN</td>\n",
       "      <td>Canada</td>\n",
       "      <td>Dec 4, 2007</td>\n",
       "    </tr>\n",
       "    <tr>\n",
       "      <th>2</th>\n",
       "      <td>00004d2ac9316e22dc007ab2243d6fcb239e707d</td>\n",
       "      <td>NaN</td>\n",
       "      <td>NaN</td>\n",
       "      <td>Germany</td>\n",
       "      <td>Sep 1, 2006</td>\n",
       "    </tr>\n",
       "    <tr>\n",
       "      <th>3</th>\n",
       "      <td>000063d3fe1cf2ba248b9e3c3f0334845a27a6bf</td>\n",
       "      <td>m</td>\n",
       "      <td>19.0</td>\n",
       "      <td>Mexico</td>\n",
       "      <td>Apr 28, 2008</td>\n",
       "    </tr>\n",
       "    <tr>\n",
       "      <th>4</th>\n",
       "      <td>00007a47085b9aab8af55f52ec8846ac479ac4fe</td>\n",
       "      <td>m</td>\n",
       "      <td>28.0</td>\n",
       "      <td>United States</td>\n",
       "      <td>Jan 27, 2006</td>\n",
       "    </tr>\n",
       "  </tbody>\n",
       "</table>\n",
       "</div>"
      ],
      "text/plain": [
       "                                          0    1     2              3  \\\n",
       "0  00000c289a1829a808ac09c00daf10bc3c4e223b    f  22.0        Germany   \n",
       "1  00001411dc427966b17297bf4d69e7e193135d89    f   NaN         Canada   \n",
       "2  00004d2ac9316e22dc007ab2243d6fcb239e707d  NaN   NaN        Germany   \n",
       "3  000063d3fe1cf2ba248b9e3c3f0334845a27a6bf    m  19.0         Mexico   \n",
       "4  00007a47085b9aab8af55f52ec8846ac479ac4fe    m  28.0  United States   \n",
       "\n",
       "              4  \n",
       "0   Feb 1, 2007  \n",
       "1   Dec 4, 2007  \n",
       "2   Sep 1, 2006  \n",
       "3  Apr 28, 2008  \n",
       "4  Jan 27, 2006  "
      ]
     },
     "execution_count": 8,
     "metadata": {},
     "output_type": "execute_result"
    }
   ],
   "source": [
    "user.head()"
   ]
  },
  {
   "cell_type": "code",
   "execution_count": 9,
   "metadata": {},
   "outputs": [],
   "source": [
    "lastfm_hist.rename(columns={0: 'user_id', 1: 'artist_id', 2: 'artist_name', 3: 'plays'}, inplace=True)\n",
    "user.rename(columns={0: 'user_id', 1: 'gender', 2: 'age', 3: 'country', 4: 'signup_date'}, inplace=True)"
   ]
  },
  {
   "cell_type": "code",
   "execution_count": 10,
   "metadata": {},
   "outputs": [
    {
     "data": {
      "text/html": [
       "<div>\n",
       "<style scoped>\n",
       "    .dataframe tbody tr th:only-of-type {\n",
       "        vertical-align: middle;\n",
       "    }\n",
       "\n",
       "    .dataframe tbody tr th {\n",
       "        vertical-align: top;\n",
       "    }\n",
       "\n",
       "    .dataframe thead th {\n",
       "        text-align: right;\n",
       "    }\n",
       "</style>\n",
       "<table border=\"1\" class=\"dataframe\">\n",
       "  <thead>\n",
       "    <tr style=\"text-align: right;\">\n",
       "      <th></th>\n",
       "      <th>user_id</th>\n",
       "      <th>artist_id</th>\n",
       "      <th>artist_name</th>\n",
       "      <th>plays</th>\n",
       "    </tr>\n",
       "  </thead>\n",
       "  <tbody>\n",
       "    <tr>\n",
       "      <th>0</th>\n",
       "      <td>00000c289a1829a808ac09c00daf10bc3c4e223b</td>\n",
       "      <td>3bd73256-3905-4f3a-97e2-8b341527f805</td>\n",
       "      <td>betty blowtorch</td>\n",
       "      <td>2137</td>\n",
       "    </tr>\n",
       "    <tr>\n",
       "      <th>1</th>\n",
       "      <td>00000c289a1829a808ac09c00daf10bc3c4e223b</td>\n",
       "      <td>f2fb0ff0-5679-42ec-a55c-15109ce6e320</td>\n",
       "      <td>die Ärzte</td>\n",
       "      <td>1099</td>\n",
       "    </tr>\n",
       "    <tr>\n",
       "      <th>2</th>\n",
       "      <td>00000c289a1829a808ac09c00daf10bc3c4e223b</td>\n",
       "      <td>b3ae82c2-e60b-4551-a76d-6620f1b456aa</td>\n",
       "      <td>melissa etheridge</td>\n",
       "      <td>897</td>\n",
       "    </tr>\n",
       "    <tr>\n",
       "      <th>3</th>\n",
       "      <td>00000c289a1829a808ac09c00daf10bc3c4e223b</td>\n",
       "      <td>3d6bbeb7-f90e-4d10-b440-e153c0d10b53</td>\n",
       "      <td>elvenking</td>\n",
       "      <td>717</td>\n",
       "    </tr>\n",
       "    <tr>\n",
       "      <th>4</th>\n",
       "      <td>00000c289a1829a808ac09c00daf10bc3c4e223b</td>\n",
       "      <td>bbd2ffd7-17f4-4506-8572-c1ea58c3f9a8</td>\n",
       "      <td>juliette &amp; the licks</td>\n",
       "      <td>706</td>\n",
       "    </tr>\n",
       "  </tbody>\n",
       "</table>\n",
       "</div>"
      ],
      "text/plain": [
       "                                    user_id  \\\n",
       "0  00000c289a1829a808ac09c00daf10bc3c4e223b   \n",
       "1  00000c289a1829a808ac09c00daf10bc3c4e223b   \n",
       "2  00000c289a1829a808ac09c00daf10bc3c4e223b   \n",
       "3  00000c289a1829a808ac09c00daf10bc3c4e223b   \n",
       "4  00000c289a1829a808ac09c00daf10bc3c4e223b   \n",
       "\n",
       "                              artist_id           artist_name  plays  \n",
       "0  3bd73256-3905-4f3a-97e2-8b341527f805       betty blowtorch   2137  \n",
       "1  f2fb0ff0-5679-42ec-a55c-15109ce6e320             die Ärzte   1099  \n",
       "2  b3ae82c2-e60b-4551-a76d-6620f1b456aa     melissa etheridge    897  \n",
       "3  3d6bbeb7-f90e-4d10-b440-e153c0d10b53             elvenking    717  \n",
       "4  bbd2ffd7-17f4-4506-8572-c1ea58c3f9a8  juliette & the licks    706  "
      ]
     },
     "execution_count": 10,
     "metadata": {},
     "output_type": "execute_result"
    }
   ],
   "source": [
    "lastfm_hist.head()"
   ]
  },
  {
   "cell_type": "code",
   "execution_count": 11,
   "metadata": {},
   "outputs": [],
   "source": [
    "quotechars = '\\\\t'\n",
    "unuse_idx = lastfm_hist[lastfm_hist['artist_name'].str.contains(\n",
    "    pat=quotechars\n",
    "    , na=False\n",
    "    , case=False\n",
    ")].index"
   ]
  },
  {
   "cell_type": "code",
   "execution_count": 12,
   "metadata": {},
   "outputs": [],
   "source": [
    "lastfm_hist.drop(unuse_idx, inplace=True)"
   ]
  },
  {
   "cell_type": "code",
   "execution_count": 13,
   "metadata": {},
   "outputs": [
    {
     "data": {
      "text/plain": [
       "(17535643, 4)"
      ]
     },
     "execution_count": 13,
     "metadata": {},
     "output_type": "execute_result"
    }
   ],
   "source": [
    "lastfm_hist.shape"
   ]
  },
  {
   "cell_type": "code",
   "execution_count": 14,
   "metadata": {},
   "outputs": [
    {
     "data": {
      "text/html": [
       "<div>\n",
       "<style scoped>\n",
       "    .dataframe tbody tr th:only-of-type {\n",
       "        vertical-align: middle;\n",
       "    }\n",
       "\n",
       "    .dataframe tbody tr th {\n",
       "        vertical-align: top;\n",
       "    }\n",
       "\n",
       "    .dataframe thead th {\n",
       "        text-align: right;\n",
       "    }\n",
       "</style>\n",
       "<table border=\"1\" class=\"dataframe\">\n",
       "  <thead>\n",
       "    <tr style=\"text-align: right;\">\n",
       "      <th></th>\n",
       "      <th>user_id</th>\n",
       "      <th>gender</th>\n",
       "      <th>age</th>\n",
       "      <th>country</th>\n",
       "      <th>signup_date</th>\n",
       "    </tr>\n",
       "  </thead>\n",
       "  <tbody>\n",
       "    <tr>\n",
       "      <th>0</th>\n",
       "      <td>00000c289a1829a808ac09c00daf10bc3c4e223b</td>\n",
       "      <td>f</td>\n",
       "      <td>22.0</td>\n",
       "      <td>Germany</td>\n",
       "      <td>Feb 1, 2007</td>\n",
       "    </tr>\n",
       "    <tr>\n",
       "      <th>1</th>\n",
       "      <td>00001411dc427966b17297bf4d69e7e193135d89</td>\n",
       "      <td>f</td>\n",
       "      <td>NaN</td>\n",
       "      <td>Canada</td>\n",
       "      <td>Dec 4, 2007</td>\n",
       "    </tr>\n",
       "    <tr>\n",
       "      <th>2</th>\n",
       "      <td>00004d2ac9316e22dc007ab2243d6fcb239e707d</td>\n",
       "      <td>NaN</td>\n",
       "      <td>NaN</td>\n",
       "      <td>Germany</td>\n",
       "      <td>Sep 1, 2006</td>\n",
       "    </tr>\n",
       "    <tr>\n",
       "      <th>3</th>\n",
       "      <td>000063d3fe1cf2ba248b9e3c3f0334845a27a6bf</td>\n",
       "      <td>m</td>\n",
       "      <td>19.0</td>\n",
       "      <td>Mexico</td>\n",
       "      <td>Apr 28, 2008</td>\n",
       "    </tr>\n",
       "    <tr>\n",
       "      <th>4</th>\n",
       "      <td>00007a47085b9aab8af55f52ec8846ac479ac4fe</td>\n",
       "      <td>m</td>\n",
       "      <td>28.0</td>\n",
       "      <td>United States</td>\n",
       "      <td>Jan 27, 2006</td>\n",
       "    </tr>\n",
       "  </tbody>\n",
       "</table>\n",
       "</div>"
      ],
      "text/plain": [
       "                                    user_id gender   age        country  \\\n",
       "0  00000c289a1829a808ac09c00daf10bc3c4e223b      f  22.0        Germany   \n",
       "1  00001411dc427966b17297bf4d69e7e193135d89      f   NaN         Canada   \n",
       "2  00004d2ac9316e22dc007ab2243d6fcb239e707d    NaN   NaN        Germany   \n",
       "3  000063d3fe1cf2ba248b9e3c3f0334845a27a6bf      m  19.0         Mexico   \n",
       "4  00007a47085b9aab8af55f52ec8846ac479ac4fe      m  28.0  United States   \n",
       "\n",
       "    signup_date  \n",
       "0   Feb 1, 2007  \n",
       "1   Dec 4, 2007  \n",
       "2   Sep 1, 2006  \n",
       "3  Apr 28, 2008  \n",
       "4  Jan 27, 2006  "
      ]
     },
     "execution_count": 14,
     "metadata": {},
     "output_type": "execute_result"
    }
   ],
   "source": [
    "user.head()"
   ]
  },
  {
   "cell_type": "code",
   "execution_count": 15,
   "metadata": {},
   "outputs": [],
   "source": [
    "user.dropna(inplace=True)"
   ]
  },
  {
   "cell_type": "code",
   "execution_count": 16,
   "metadata": {},
   "outputs": [],
   "source": [
    "with open('data/composers.json', 'r') as f:\n",
    "        composers = json.load(f)\n",
    "        \n",
    "composers_df = pd.DataFrame(composers['composers'])\n",
    "composers_df.rename(columns={'name':'composer'}, inplace=True)"
   ]
  },
  {
   "cell_type": "code",
   "execution_count": 17,
   "metadata": {},
   "outputs": [
    {
     "data": {
      "text/plain": [
       "array(['John Adams', 'Thomas Adès', 'Isaac Albéniz', 'Tomaso Albinoni',\n",
       "       'George Antheil', 'Malcolm Arnold', 'Milton Babbitt',\n",
       "       'Johann Sebastian Bach', 'Carl Philipp Emanuel Bach',\n",
       "       'Johann Christian Bach', 'Mily Balakirev', 'Samuel Barber',\n",
       "       'Béla Bartók', 'Arnold Bax', 'Ludwig van Beethoven',\n",
       "       'Vincenzo Bellini', 'Alban Berg', 'Luciano Berio',\n",
       "       'Hector Berlioz', 'Leonard Bernstein', 'Franz Berwald',\n",
       "       'Heinrich Franz von Biber', 'Harrison Birtwistle', 'Georges Bizet',\n",
       "       'Ernest Bloch', 'Luigi Boccherini', 'Alexander Borodin',\n",
       "       'Pierre Boulez', 'Joly Braga Santos', 'Johannes Brahms',\n",
       "       'Benjamin Britten', 'Max Bruch', 'Anton Bruckner',\n",
       "       'Ferruccio Busoni', 'Dietrich Buxtehude', 'William Byrd',\n",
       "       'John Cage', 'Camargo Guarnieri', 'Elliott Carter',\n",
       "       'Emmanuel Chabrier', 'Marc-Antoine Charpentier', 'Ernest Chausson',\n",
       "       'Carlos Chávez', 'Luigi Cherubini', 'Frédéric Chopin',\n",
       "       'Aaron Copland', 'Arcangelo Corelli', 'John Corigliano',\n",
       "       'François Couperin', 'George Crumb', 'César Cui', \"Vincent d'Indy\",\n",
       "       'Michael Daugherty', 'Claude Debussy', 'Léo Delibes',\n",
       "       'Frederick Delius', 'Josquin Des Prez',\n",
       "       'Karl Ditters von Dittersdorf', 'Ernst von Dohnányi',\n",
       "       'Gaetano Donizetti', 'John Dowland', 'Guillaume Dufay',\n",
       "       'Paul Dukas', 'Maurice Duruflé', 'Henri Dutilleux',\n",
       "       'Antonín Dvořák', 'Edward Elgar', 'George Enescu',\n",
       "       'Manuel de Falla', 'Gabriel Fauré', 'John Field', 'César Franck',\n",
       "       'Girolamo Frescobaldi', 'George Gershwin', 'Carlo Gesualdo',\n",
       "       'Orlando Gibbons', 'Alberto Ginastera', 'Philip Glass',\n",
       "       'Alexander Glazunov', 'Reinhold Glière',\n",
       "       'Mikhail Ivanovich Glinka', 'Christoph Willibald von Gluck',\n",
       "       'Karl Goldmark', 'Antonio Carlos Gomes', 'Henryk Górecki',\n",
       "       'Morton Gould', 'Charles Gounod', 'Percy Grainger',\n",
       "       'Enrique Granados', 'Edvard Grieg', 'Sofia Gubaidulina',\n",
       "       'George Frideric Handel', 'Howard Hanson', 'Roy Harris',\n",
       "       'Franz Joseph Haydn', 'Hans Werner Henze', 'Victor Herbert',\n",
       "       'Paul Hindemith', 'Vagn Holmboe', 'Gustav Holst',\n",
       "       'Arthur Honegger', 'Johann Nepomuk Hummel',\n",
       "       'Engelbert Humperdinck', 'Jacques Ibert', 'Charles Ives',\n",
       "       'Leoš Janáček', 'Clément Janequin', 'Scott Joplin',\n",
       "       'Dmitry Kabalevsky', 'Aram Khachaturian', 'Zoltán Kodály',\n",
       "       'Erich Wolfgang Korngold', 'Edouard Lalo', 'Orlande de Lassus',\n",
       "       'Ruggero Leoncavallo', 'Léonin', 'György Ligeti', 'Franz Liszt',\n",
       "       'Fernando Lopes-Graça', 'Jean-Baptiste Lully',\n",
       "       'Witold Lutoslawski', 'Edward MacDowell', 'Guillaume de Machaut',\n",
       "       'Gustav Mahler', 'Marin Marais', 'Benedetto Marcello',\n",
       "       'Alessandro Marcello', 'Bohuslav Martinů', 'Pietro Mascagni',\n",
       "       'Jules Massenet', 'Felix Mendelssohn', 'Olivier Messiaen',\n",
       "       'Francisco Mignone', 'Darius Milhaud', 'Ernest Moeran',\n",
       "       'Claudio Monteverdi', 'Wolfgang Amadeus Mozart',\n",
       "       'Modest Mussorgsky', 'Carl Nielsen', 'Luigi Nono', 'Jacob Obrecht',\n",
       "       'Johannes Ockeghem', 'Jacques Offenbach', 'Carl Orff',\n",
       "       'Johann Pachelbel', 'Niccolò Paganini',\n",
       "       'Giovanni Pierluigi da Palestrina', 'Arvo Pärt',\n",
       "       'Krzysztof Penderecki', 'Giovanni Battista Pergolesi', 'Pérotin',\n",
       "       'Astor Piazzolla', 'Francis Poulenc', 'Michael Praetorius',\n",
       "       'Sergei Prokofiev', 'Giacomo Puccini', 'Henry Purcell',\n",
       "       'Sergei Rachmaninoff', 'Jean-Philippe Rameau',\n",
       "       'Einojuhani Rautavaara', 'Maurice Ravel', 'Max Reger',\n",
       "       'Steve Reich', 'Ottorino Respighi', 'Wolfgang Rihm',\n",
       "       'Nikolai Rimsky-Korsakov', 'Joaquín Rodrigo', 'Ned Rorem',\n",
       "       'Gioachino Rossini', 'Albert Roussel', 'Camille Saint-Saëns',\n",
       "       'Antonio Salieri', 'Erik Satie', 'Domenico Scarlatti',\n",
       "       'Alessandro Scarlatti', 'Franz Schmidt', 'Alfred Schnittke',\n",
       "       'Arnold Schoenberg', 'Franz Schubert', 'William Schuman',\n",
       "       'Robert Schumann', 'Heinrich Schütz', 'Alexander Scriabin',\n",
       "       'Dmitri Shostakovich', 'Jean Sibelius', 'Bedrich Smetana',\n",
       "       'Fernando Sor', 'Louis Spohr', 'Carl Stamitz',\n",
       "       'Wilhelm Stenhammar', 'Karlheinz Stockhausen', 'Richard Strauss',\n",
       "       'Johann Strauss Jr', 'Igor Stravinsky', 'Josef Suk',\n",
       "       'Jan Pieterszoon Sweelinck', 'Karol Szymanowski', 'Toru Takemitsu',\n",
       "       'Thomas Tallis', 'Giuseppe Tartini', 'John Taverner',\n",
       "       'Pyotr Ilyich Tchaikovsky', 'Georg Philipp Telemann',\n",
       "       'Michael Tippett', 'Edgard Varèse', 'Ralph Vaughan Williams',\n",
       "       'Giuseppe Verdi', 'Tomás Luis de Victoria', 'Heitor Villa-Lobos',\n",
       "       'Antonio Vivaldi', 'Richard Wagner', 'William Walton',\n",
       "       'Carl Maria von Weber', 'Anton Webern', 'Kurt Weill',\n",
       "       'Charles-Marie Widor', 'Hugo Wolf', 'Iannis Xenakis',\n",
       "       'Eugene Ysaÿe', 'Alexander von Zemlinsky'], dtype=object)"
      ]
     },
     "execution_count": 17,
     "metadata": {},
     "output_type": "execute_result"
    }
   ],
   "source": [
    "composers_df['complete_name'].unique()"
   ]
  },
  {
   "cell_type": "code",
   "execution_count": 18,
   "metadata": {},
   "outputs": [],
   "source": [
    "meta_df = pd.read_csv('data/musicnet_metadata.csv')"
   ]
  },
  {
   "cell_type": "code",
   "execution_count": 19,
   "metadata": {},
   "outputs": [
    {
     "data": {
      "text/html": [
       "<div>\n",
       "<style scoped>\n",
       "    .dataframe tbody tr th:only-of-type {\n",
       "        vertical-align: middle;\n",
       "    }\n",
       "\n",
       "    .dataframe tbody tr th {\n",
       "        vertical-align: top;\n",
       "    }\n",
       "\n",
       "    .dataframe thead th {\n",
       "        text-align: right;\n",
       "    }\n",
       "</style>\n",
       "<table border=\"1\" class=\"dataframe\">\n",
       "  <thead>\n",
       "    <tr style=\"text-align: right;\">\n",
       "      <th></th>\n",
       "      <th>id</th>\n",
       "      <th>composer</th>\n",
       "      <th>composition</th>\n",
       "      <th>movement</th>\n",
       "      <th>ensemble</th>\n",
       "      <th>source</th>\n",
       "      <th>transcriber</th>\n",
       "      <th>catalog_name</th>\n",
       "      <th>seconds</th>\n",
       "    </tr>\n",
       "  </thead>\n",
       "  <tbody>\n",
       "    <tr>\n",
       "      <th>0</th>\n",
       "      <td>1727</td>\n",
       "      <td>Schubert</td>\n",
       "      <td>Piano Quintet in A major</td>\n",
       "      <td>2. Andante</td>\n",
       "      <td>Piano Quintet</td>\n",
       "      <td>European Archive</td>\n",
       "      <td>http://tirolmusic.blogspot.com/</td>\n",
       "      <td>OP114</td>\n",
       "      <td>447</td>\n",
       "    </tr>\n",
       "    <tr>\n",
       "      <th>1</th>\n",
       "      <td>1728</td>\n",
       "      <td>Schubert</td>\n",
       "      <td>Piano Quintet in A major</td>\n",
       "      <td>3. Scherzo: Presto</td>\n",
       "      <td>Piano Quintet</td>\n",
       "      <td>European Archive</td>\n",
       "      <td>http://tirolmusic.blogspot.com/</td>\n",
       "      <td>OP114</td>\n",
       "      <td>251</td>\n",
       "    </tr>\n",
       "    <tr>\n",
       "      <th>2</th>\n",
       "      <td>1729</td>\n",
       "      <td>Schubert</td>\n",
       "      <td>Piano Quintet in A major</td>\n",
       "      <td>4. Andantino - Allegretto</td>\n",
       "      <td>Piano Quintet</td>\n",
       "      <td>European Archive</td>\n",
       "      <td>http://tirolmusic.blogspot.com/</td>\n",
       "      <td>OP114</td>\n",
       "      <td>444</td>\n",
       "    </tr>\n",
       "    <tr>\n",
       "      <th>3</th>\n",
       "      <td>1730</td>\n",
       "      <td>Schubert</td>\n",
       "      <td>Piano Quintet in A major</td>\n",
       "      <td>5. Allegro giusto</td>\n",
       "      <td>Piano Quintet</td>\n",
       "      <td>European Archive</td>\n",
       "      <td>http://tirolmusic.blogspot.com/</td>\n",
       "      <td>OP114</td>\n",
       "      <td>368</td>\n",
       "    </tr>\n",
       "    <tr>\n",
       "      <th>4</th>\n",
       "      <td>1733</td>\n",
       "      <td>Schubert</td>\n",
       "      <td>Piano Sonata in A major</td>\n",
       "      <td>2. Andantino</td>\n",
       "      <td>Solo Piano</td>\n",
       "      <td>Museopen</td>\n",
       "      <td>Segundo G. Yogore</td>\n",
       "      <td>D959</td>\n",
       "      <td>546</td>\n",
       "    </tr>\n",
       "  </tbody>\n",
       "</table>\n",
       "</div>"
      ],
      "text/plain": [
       "     id  composer               composition                   movement  \\\n",
       "0  1727  Schubert  Piano Quintet in A major                 2. Andante   \n",
       "1  1728  Schubert  Piano Quintet in A major         3. Scherzo: Presto   \n",
       "2  1729  Schubert  Piano Quintet in A major  4. Andantino - Allegretto   \n",
       "3  1730  Schubert  Piano Quintet in A major          5. Allegro giusto   \n",
       "4  1733  Schubert   Piano Sonata in A major               2. Andantino   \n",
       "\n",
       "        ensemble            source                      transcriber  \\\n",
       "0  Piano Quintet  European Archive  http://tirolmusic.blogspot.com/   \n",
       "1  Piano Quintet  European Archive  http://tirolmusic.blogspot.com/   \n",
       "2  Piano Quintet  European Archive  http://tirolmusic.blogspot.com/   \n",
       "3  Piano Quintet  European Archive  http://tirolmusic.blogspot.com/   \n",
       "4     Solo Piano          Museopen                Segundo G. Yogore   \n",
       "\n",
       "  catalog_name  seconds  \n",
       "0        OP114      447  \n",
       "1        OP114      251  \n",
       "2        OP114      444  \n",
       "3        OP114      368  \n",
       "4         D959      546  "
      ]
     },
     "execution_count": 19,
     "metadata": {},
     "output_type": "execute_result"
    }
   ],
   "source": [
    "meta_df.head()"
   ]
  },
  {
   "cell_type": "code",
   "execution_count": 20,
   "metadata": {},
   "outputs": [],
   "source": [
    "composer_uniq = [item for item in composers_df.loc[composers_df['complete_name'].str.contains('|'.join(meta_df['composer'].unique()), na=False, case=False), 'complete_name']]"
   ]
  },
  {
   "cell_type": "code",
   "execution_count": 21,
   "metadata": {},
   "outputs": [
    {
     "data": {
      "text/plain": [
       "['Johann Sebastian Bach',\n",
       " 'Carl Philipp Emanuel Bach',\n",
       " 'Johann Christian Bach',\n",
       " 'Ludwig van Beethoven',\n",
       " 'Johannes Brahms',\n",
       " 'Franz Joseph Haydn',\n",
       " 'Wolfgang Amadeus Mozart',\n",
       " 'Jacques Offenbach',\n",
       " 'Maurice Ravel',\n",
       " 'Franz Schubert']"
      ]
     },
     "execution_count": 21,
     "metadata": {},
     "output_type": "execute_result"
    }
   ],
   "source": [
    "composer_uniq"
   ]
  },
  {
   "cell_type": "code",
   "execution_count": 22,
   "metadata": {},
   "outputs": [],
   "source": [
    "use_hist = lastfm_hist[lastfm_hist['artist_name'].str.contains(\n",
    "    '|'.join(composer_uniq)\n",
    "    , na=False\n",
    "    , case=False\n",
    ")]"
   ]
  },
  {
   "cell_type": "code",
   "execution_count": 23,
   "metadata": {},
   "outputs": [
    {
     "data": {
      "text/plain": [
       "(27368, 4)"
      ]
     },
     "execution_count": 23,
     "metadata": {},
     "output_type": "execute_result"
    }
   ],
   "source": [
    "use_hist.shape"
   ]
  },
  {
   "cell_type": "code",
   "execution_count": 24,
   "metadata": {},
   "outputs": [
    {
     "data": {
      "text/plain": [
       "array(['johann sebastian bach', 'franz schubert', 'ludwig van beethoven',\n",
       "       'maurice ravel', 'wolfgang amadeus mozart', 'franz joseph haydn',\n",
       "       'johannes brahms', 'jacques offenbach',\n",
       "       'johann sebastian bach(1685-1750)', 'johann christian bach',\n",
       "       'carl philipp emanuel bach', 'ludwig van beethoven (Людвиг В',\n",
       "       'ludwig van beethoven: london symphony orchestra & sir george solti',\n",
       "       'johannes brahms (1833-1897)',\n",
       "       'johann sebastian bach (Иоганн Себастьян Бах)',\n",
       "       'franz schubert - matthias goerne, graham johnson',\n",
       "       'johann sebastian bach, yo-yo ma',\n",
       "       'johann sebastian bach (glenn gould)',\n",
       "       'johann sebastian bach - daniel barenboim',\n",
       "       'ludwig van beethoven, philadelphia orchestra & riccardo muti',\n",
       "       'johann sebastian bach / maurice gendron',\n",
       "       'maurice ravel and modest mussorgsky',\n",
       "       'johannes brahms (Иоганнес Брамс)',\n",
       "       'ludwig van beethoven herbert von karajan walter berry gundula janowitz waldemar kmentt hilde rossel-majdan',\n",
       "       'johannes chrysostomus wolfgang amadeus mozart',\n",
       "       'ludwig van beethoven (Людвиг Ван Бетховен)',\n",
       "       'maurice ravel (composer)', 'glenn gould - johann sebastian bach',\n",
       "       'johann sebastian bach - bwv 248 - weihnachtsoratorium'],\n",
       "      dtype=object)"
      ]
     },
     "execution_count": 24,
     "metadata": {},
     "output_type": "execute_result"
    }
   ],
   "source": [
    "use_hist['artist_name'].unique()"
   ]
  },
  {
   "cell_type": "code",
   "execution_count": 25,
   "metadata": {},
   "outputs": [
    {
     "name": "stderr",
     "output_type": "stream",
     "text": [
      "/var/folders/ls/jhlm1yj52w75z_v508nspzpw0000gn/T/ipykernel_3141/2753273126.py:1: SettingWithCopyWarning: \n",
      "A value is trying to be set on a copy of a slice from a DataFrame\n",
      "\n",
      "See the caveats in the documentation: https://pandas.pydata.org/pandas-docs/stable/user_guide/indexing.html#returning-a-view-versus-a-copy\n",
      "  use_hist.dropna(inplace=True)\n"
     ]
    }
   ],
   "source": [
    "use_hist.dropna(inplace=True)"
   ]
  },
  {
   "cell_type": "code",
   "execution_count": 28,
   "metadata": {},
   "outputs": [
    {
     "data": {
      "text/plain": [
       "17120"
      ]
     },
     "execution_count": 28,
     "metadata": {},
     "output_type": "execute_result"
    }
   ],
   "source": [
    "len(use_hist['user_id'].unique())"
   ]
  },
  {
   "cell_type": "code",
   "execution_count": 29,
   "metadata": {},
   "outputs": [],
   "source": [
    "idx = 0\n",
    "user_lst = []\n",
    "user_dict = {}\n",
    "for id in use_hist['user_id'].unique():\n",
    "    user_lst.append(f\"{id} {idx}\")\n",
    "    user_dict[id] = idx\n",
    "    idx+=1"
   ]
  },
  {
   "cell_type": "code",
   "execution_count": 30,
   "metadata": {},
   "outputs": [
    {
     "data": {
      "text/plain": [
       "['000063d3fe1cf2ba248b9e3c3f0334845a27a6bf 0',\n",
       " '0005fb9cb3bb0c4c89fe715630cc9dee91d1dadf 1',\n",
       " '000a4fba9046379163980531da4e211bb2d20f3a 2']"
      ]
     },
     "execution_count": 30,
     "metadata": {},
     "output_type": "execute_result"
    }
   ],
   "source": [
    "user_lst[:3]"
   ]
  },
  {
   "cell_type": "code",
   "execution_count": 31,
   "metadata": {},
   "outputs": [],
   "source": [
    "idx = 0\n",
    "artist_lst = []\n",
    "artist_dict = {}\n",
    "for id in use_hist['artist_id'].unique():\n",
    "    artist_lst.append(f\"{id} {idx}\")\n",
    "    artist_dict[id] = idx\n",
    "    idx+=1"
   ]
  },
  {
   "cell_type": "code",
   "execution_count": 32,
   "metadata": {},
   "outputs": [
    {
     "data": {
      "text/plain": [
       "['24f1766e-9635-4d58-a4d4-9413f9f98a4c 0',\n",
       " 'f91e3a88-24ee-4563-8963-fab73d2765ed 1',\n",
       " '1f9df192-a621-4f54-8850-2c5373b7eac9 2',\n",
       " '6fdd3b3e-1ea6-4da9-8d6f-8f8de01c133a 3',\n",
       " 'b972f589-fb0e-474e-b64a-803b0364fa75 4',\n",
       " 'c130b0fb-5dce-449d-9f40-1437f889f7fe 5',\n",
       " 'c70d12a2-24fe-4f83-a6e6-57d84f8efb51 6',\n",
       " '27bc8cf5-72e1-4888-87de-259fbcaac3ff 7',\n",
       " '470967b1-f9ef-4712-82df-6971b517ebdb 8',\n",
       " 'f6486fc7-90ef-48ad-8ca3-905af1354afe 9']"
      ]
     },
     "execution_count": 32,
     "metadata": {},
     "output_type": "execute_result"
    }
   ],
   "source": [
    "artist_lst"
   ]
  },
  {
   "cell_type": "code",
   "execution_count": 33,
   "metadata": {},
   "outputs": [
    {
     "data": {
      "text/plain": [
       "{'24f1766e-9635-4d58-a4d4-9413f9f98a4c': 0,\n",
       " 'f91e3a88-24ee-4563-8963-fab73d2765ed': 1,\n",
       " '1f9df192-a621-4f54-8850-2c5373b7eac9': 2,\n",
       " '6fdd3b3e-1ea6-4da9-8d6f-8f8de01c133a': 3,\n",
       " 'b972f589-fb0e-474e-b64a-803b0364fa75': 4,\n",
       " 'c130b0fb-5dce-449d-9f40-1437f889f7fe': 5,\n",
       " 'c70d12a2-24fe-4f83-a6e6-57d84f8efb51': 6,\n",
       " '27bc8cf5-72e1-4888-87de-259fbcaac3ff': 7,\n",
       " '470967b1-f9ef-4712-82df-6971b517ebdb': 8,\n",
       " 'f6486fc7-90ef-48ad-8ca3-905af1354afe': 9}"
      ]
     },
     "execution_count": 33,
     "metadata": {},
     "output_type": "execute_result"
    }
   ],
   "source": [
    "artist_dict"
   ]
  },
  {
   "cell_type": "code",
   "execution_count": 34,
   "metadata": {},
   "outputs": [],
   "source": [
    "user_item_lst = []\n",
    "train_lst = {}\n",
    "\n",
    "for id in user_dict.keys():\n",
    "    train_lst[user_dict[id]] = []\n",
    "    for art in use_hist.loc[use_hist['user_id']==id, 'artist_id']:\n",
    "        train_lst[user_dict[id]].append(str(artist_dict[art]))"
   ]
  },
  {
   "cell_type": "code",
   "execution_count": 35,
   "metadata": {},
   "outputs": [
    {
     "data": {
      "text/html": [
       "<div>\n",
       "<style scoped>\n",
       "    .dataframe tbody tr th:only-of-type {\n",
       "        vertical-align: middle;\n",
       "    }\n",
       "\n",
       "    .dataframe tbody tr th {\n",
       "        vertical-align: top;\n",
       "    }\n",
       "\n",
       "    .dataframe thead th {\n",
       "        text-align: right;\n",
       "    }\n",
       "</style>\n",
       "<table border=\"1\" class=\"dataframe\">\n",
       "  <thead>\n",
       "    <tr style=\"text-align: right;\">\n",
       "      <th></th>\n",
       "      <th>user_id</th>\n",
       "      <th>artist_id</th>\n",
       "      <th>artist_name</th>\n",
       "      <th>plays</th>\n",
       "    </tr>\n",
       "  </thead>\n",
       "  <tbody>\n",
       "    <tr>\n",
       "      <th>22347</th>\n",
       "      <td>005247e5abbceffefb469eb405e331a6e5082255</td>\n",
       "      <td>b972f589-fb0e-474e-b64a-803b0364fa75</td>\n",
       "      <td>wolfgang amadeus mozart</td>\n",
       "      <td>387</td>\n",
       "    </tr>\n",
       "    <tr>\n",
       "      <th>22367</th>\n",
       "      <td>005247e5abbceffefb469eb405e331a6e5082255</td>\n",
       "      <td>24f1766e-9635-4d58-a4d4-9413f9f98a4c</td>\n",
       "      <td>johann sebastian bach</td>\n",
       "      <td>136</td>\n",
       "    </tr>\n",
       "    <tr>\n",
       "      <th>22369</th>\n",
       "      <td>005247e5abbceffefb469eb405e331a6e5082255</td>\n",
       "      <td>1f9df192-a621-4f54-8850-2c5373b7eac9</td>\n",
       "      <td>ludwig van beethoven</td>\n",
       "      <td>116</td>\n",
       "    </tr>\n",
       "    <tr>\n",
       "      <th>22376</th>\n",
       "      <td>005247e5abbceffefb469eb405e331a6e5082255</td>\n",
       "      <td>c130b0fb-5dce-449d-9f40-1437f889f7fe</td>\n",
       "      <td>franz joseph haydn</td>\n",
       "      <td>93</td>\n",
       "    </tr>\n",
       "    <tr>\n",
       "      <th>22384</th>\n",
       "      <td>005247e5abbceffefb469eb405e331a6e5082255</td>\n",
       "      <td>c70d12a2-24fe-4f83-a6e6-57d84f8efb51</td>\n",
       "      <td>johannes brahms</td>\n",
       "      <td>79</td>\n",
       "    </tr>\n",
       "    <tr>\n",
       "      <th>22398</th>\n",
       "      <td>005247e5abbceffefb469eb405e331a6e5082255</td>\n",
       "      <td>f91e3a88-24ee-4563-8963-fab73d2765ed</td>\n",
       "      <td>franz schubert</td>\n",
       "      <td>61</td>\n",
       "    </tr>\n",
       "  </tbody>\n",
       "</table>\n",
       "</div>"
      ],
      "text/plain": [
       "                                        user_id  \\\n",
       "22347  005247e5abbceffefb469eb405e331a6e5082255   \n",
       "22367  005247e5abbceffefb469eb405e331a6e5082255   \n",
       "22369  005247e5abbceffefb469eb405e331a6e5082255   \n",
       "22376  005247e5abbceffefb469eb405e331a6e5082255   \n",
       "22384  005247e5abbceffefb469eb405e331a6e5082255   \n",
       "22398  005247e5abbceffefb469eb405e331a6e5082255   \n",
       "\n",
       "                                  artist_id              artist_name  plays  \n",
       "22347  b972f589-fb0e-474e-b64a-803b0364fa75  wolfgang amadeus mozart    387  \n",
       "22367  24f1766e-9635-4d58-a4d4-9413f9f98a4c    johann sebastian bach    136  \n",
       "22369  1f9df192-a621-4f54-8850-2c5373b7eac9     ludwig van beethoven    116  \n",
       "22376  c130b0fb-5dce-449d-9f40-1437f889f7fe       franz joseph haydn     93  \n",
       "22384  c70d12a2-24fe-4f83-a6e6-57d84f8efb51          johannes brahms     79  \n",
       "22398  f91e3a88-24ee-4563-8963-fab73d2765ed           franz schubert     61  "
      ]
     },
     "execution_count": 35,
     "metadata": {},
     "output_type": "execute_result"
    }
   ],
   "source": [
    "use_hist.loc[use_hist['user_id']=='005247e5abbceffefb469eb405e331a6e5082255']"
   ]
  },
  {
   "cell_type": "code",
   "execution_count": 36,
   "metadata": {},
   "outputs": [],
   "source": [
    "import random"
   ]
  },
  {
   "cell_type": "code",
   "execution_count": 41,
   "metadata": {},
   "outputs": [],
   "source": [
    "items = train_lst.items()\n",
    "\n",
    "\n",
    "with open('data/train.txt', 'w') as f:\n",
    "    for k,v in train_lst.items():\n",
    "        val = ' '.join(v)\n",
    "        f.write(f\"{k} {val}\\n\")"
   ]
  },
  {
   "cell_type": "code",
   "execution_count": 42,
   "metadata": {},
   "outputs": [],
   "source": [
    "with open('data/item_list.txt', 'w') as f:\n",
    "    f.write(\"org_id remap_id\\n\")\n",
    "    for k,v in sorted(artist_dict.items(), key=lambda x: random.random()):\n",
    "        f.write(f\"{k} {v}\\n\")"
   ]
  },
  {
   "cell_type": "code",
   "execution_count": 43,
   "metadata": {},
   "outputs": [],
   "source": [
    "with open('data/user_list.txt', 'w') as f:\n",
    "    f.write(\"org_id remap_id\\n\")\n",
    "    for k,v in sorted(user_dict.items(), key=lambda x: random.random()):\n",
    "        f.write(f\"{k} {v}\\n\")"
   ]
  },
  {
   "cell_type": "code",
   "execution_count": null,
   "metadata": {},
   "outputs": [],
   "source": [
    "# Last FM 360k\n",
    "# users: 17120\n",
    "# items: 10\n",
    "# user-item interactions: 27368 \n",
    "\n",
    "# Knowledge graph\n",
    "# entities: 919\n",
    "# types: 12\n",
    "# triplets: entity-entity가 types로 묶임 (entity, type, entity) ex) (entity1, creator, entity2)\n",
    "\n",
    "# 곡을 추천해주기 위해 작곡가의 정보를 사용\n",
    "# 곡이 노드"
   ]
  }
 ],
 "metadata": {
  "kernelspec": {
   "display_name": "Python 3",
   "language": "python",
   "name": "python3"
  },
  "language_info": {
   "codemirror_mode": {
    "name": "ipython",
    "version": 3
   },
   "file_extension": ".py",
   "mimetype": "text/x-python",
   "name": "python",
   "nbconvert_exporter": "python",
   "pygments_lexer": "ipython3",
   "version": "3.8.17"
  },
  "orig_nbformat": 4
 },
 "nbformat": 4,
 "nbformat_minor": 2
}
